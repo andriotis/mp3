{
 "cells": [
  {
   "cell_type": "code",
   "execution_count": 84,
   "metadata": {},
   "outputs": [],
   "source": [
    "import numpy as np\n",
    "import matplotlib.pyplot as plt\n",
    "from scipy.io import wavfile"
   ]
  },
  {
   "cell_type": "code",
   "execution_count": 85,
   "metadata": {},
   "outputs": [],
   "source": [
    "h = np.load('./scripts and data/h.npy', allow_pickle=True).item().get('h').reshape(-1)\n",
    "# there might be a better way to read the .wav file\n",
    "_, wavin = wavfile.read('./scripts and data/myfile.wav')"
   ]
  },
  {
   "cell_type": "code",
   "execution_count": 86,
   "metadata": {},
   "outputs": [],
   "source": [
    "def make_mp3_analysisfb(h: np.ndarray, M: int) -> np.ndarray:\n",
    "    \"\"\"\n",
    "    \"\"\"\n",
    "    H = np.zeros([len(h), M], dtype=np.float32)\n",
    "    for i in range(1, M + 1):\n",
    "        n = np.arange(h.shape[0], dtype=np.int64)\n",
    "        freq_i = (2 * i - 1) * np.pi / (2.0 * M)\n",
    "        phas_i = -(2 * i - 1) * np.pi / 4.0\n",
    "        tmp = np.cos(freq_i * n + phas_i)\n",
    "        x = h * tmp\n",
    "        H[:, i - 1] = x\n",
    "    return H\n",
    "\n",
    "def make_mp3_synthesisfb(h: np.ndarray, M: int) -> np.ndarray:\n",
    "    \"\"\"\n",
    "    \"\"\"\n",
    "    H = make_mp3_analysisfb(h, M)\n",
    "    L = len(h)\n",
    "    G = np.flip(H, axis=0)\n",
    "    return G"
   ]
  },
  {
   "cell_type": "code",
   "execution_count": 87,
   "metadata": {},
   "outputs": [
    {
     "data": {
      "text/plain": [
       "((512, 32), (512, 32))"
      ]
     },
     "execution_count": 87,
     "metadata": {},
     "output_type": "execute_result"
    }
   ],
   "source": [
    "M = 32; L = 512; N = 36\n",
    "H = make_mp3_analysisfb(h, M)\n",
    "G = make_mp3_synthesisfb(h, M)\n",
    "H.shape, G.shape"
   ]
  },
  {
   "cell_type": "code",
   "execution_count": 95,
   "metadata": {},
   "outputs": [],
   "source": [
    "def v(k, n):\n",
    "        conv = 0\n",
    "        for m in range(L):\n",
    "            conv += wavin[n - m] * H[m, k]\n",
    "        return conv\n",
    "\n",
    "def y(k, n):\n",
    "    return v(k, M*n)"
   ]
  },
  {
   "cell_type": "code",
   "execution_count": null,
   "metadata": {},
   "outputs": [],
   "source": []
  }
 ],
 "metadata": {
  "kernelspec": {
   "display_name": "Python 3 (ipykernel)",
   "language": "python",
   "name": "python3"
  },
  "language_info": {
   "codemirror_mode": {
    "name": "ipython",
    "version": 3
   },
   "file_extension": ".py",
   "mimetype": "text/x-python",
   "name": "python",
   "nbconvert_exporter": "python",
   "pygments_lexer": "ipython3",
   "version": "3.10.8"
  },
  "vscode": {
   "interpreter": {
    "hash": "354138f68dd0147db5579cdc71c67a5266d1176a2692e910150fa0e5d6881e8a"
   }
  }
 },
 "nbformat": 4,
 "nbformat_minor": 2
}
